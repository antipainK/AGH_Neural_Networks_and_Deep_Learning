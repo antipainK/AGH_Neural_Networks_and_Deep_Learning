{
 "cells": [
  {
   "cell_type": "code",
   "execution_count": null,
   "metadata": {
    "collapsed": true
   },
   "outputs": [],
   "source": [
    "import numpy as np\n",
    "import matplotlib.pyplot as plt\n",
    "import mkl\n",
    "\n",
    "mkl.set_num_threads(4)\n",
    "np.random.seed(1234)\n",
    "\n",
    "%matplotlib inline\n",
    "%config InlineBackend.figure_format = 'retina'\n",
    "plt.rcParams[\"figure.figsize\"] = [16, 9]"
   ]
  },
  {
   "cell_type": "markdown",
   "metadata": {},
   "source": [
    "### Handy utility functions"
   ]
  },
  {
   "cell_type": "code",
   "execution_count": null,
   "metadata": {
    "collapsed": true
   },
   "outputs": [],
   "source": [
    "def append_ones(matrix, axis=1):\n",
    "    return np.concatenate((matrix, np.ones((matrix.shape[0], 1), dtype=np.float32)), axis=axis)\n",
    "\n",
    "def zeros(*dims):\n",
    "    return np.zeros(shape=tuple(dims), dtype=np.float32)\n",
    "\n",
    "def ones(*dims):\n",
    "    return np.ones(shape=tuple(dims), dtype=np.float32)\n",
    "\n",
    "def rand(*dims):\n",
    "    return np.random.rand(*dims).astype(np.float32)\n",
    "\n",
    "def chunks(seq, size):\n",
    "    return (seq[pos:pos + size] for pos in range(0, len(seq), size))\n",
    "\n",
    "def tiles(examples):\n",
    "    rows_count = examples.shape[0]\n",
    "    cols_count = examples.shape[1]\n",
    "    tile_height = examples.shape[2]\n",
    "    tile_width = examples.shape[3]\n",
    "    \n",
    "    space_between_tiles = 2\n",
    "    img_matrix = np.empty(shape=(rows_count * (tile_height + space_between_tiles) - space_between_tiles,  \n",
    "                                 cols_count * (tile_width + space_between_tiles) - space_between_tiles))\n",
    "    img_matrix.fill(np.nan)\n",
    "\n",
    "    for r in range(rows_count):\n",
    "        for c in range(cols_count):\n",
    "            x_0 = r * (tile_height + space_between_tiles)\n",
    "            y_0 = c * (tile_width + space_between_tiles)\n",
    "            ex_min = np.min(examples[r, c])\n",
    "            ex_max = np.max(examples[r, c])\n",
    "            img_matrix[x_0:x_0 + tile_height, y_0:y_0 + tile_width] = (examples[r, c] - ex_min) / (ex_max - ex_min)\n",
    "    \n",
    "    plt.matshow(img_matrix, cmap='gray', interpolation='none')\n",
    "    plt.axis('off')\n",
    "    plt.show()"
   ]
  },
  {
   "cell_type": "markdown",
   "metadata": {},
   "source": [
    "# MNIST dataset"
   ]
  },
  {
   "cell_type": "code",
   "execution_count": null,
   "metadata": {},
   "outputs": [],
   "source": [
    "import mnist\n",
    "digits = np.reshape(mnist.train_images()[:12*24], newshape=(12, 24, 28, 28))\n",
    "tiles(digits)"
   ]
  },
  {
   "cell_type": "markdown",
   "metadata": {},
   "source": [
    "# Restricted Boltzmann Machine & Contrastive Divergence algorithm"
   ]
  },
  {
   "cell_type": "code",
   "execution_count": null,
   "metadata": {
    "collapsed": true
   },
   "outputs": [],
   "source": [
    "def sigmoid(matrix):\n",
    "    return 1.0 / (1.0 + np.exp(-matrix))\n",
    "\n",
    "class Rbm:\n",
    "    def __init__(self, visible_size, hidden_size, learning_rate, momentum):\n",
    "        self.visible_size = visible_size\n",
    "        self.hidden_size = hidden_size\n",
    "        self.learning_rate = learning_rate\n",
    "        self.momentum = momentum\n",
    "        \n",
    "        self.reset()\n",
    "    \n",
    "    def reset(self):\n",
    "        self.W = np.random.normal(scale=0.01, size=(self.visible_size+1, self.hidden_size+1)).astype(np.float32)\n",
    "        self.W[:, -1] = 0.0\n",
    "        self.W[-1, :] = 0.0\n",
    "        self.M = zeros(self.visible_size+1, self.hidden_size+1) "
   ]
  },
  {
   "cell_type": "code",
   "execution_count": null,
   "metadata": {
    "collapsed": true
   },
   "outputs": [],
   "source": [
    "def reconstuction_error(rbm, minibatch):\n",
    "    observations_count = minibatch.shape[0]\n",
    "    visible = zeros(observations_count, rbm.visible_size)\n",
    "    hidden = append_ones(zeros(observations_count, rbm.hidden_size))\n",
    "\n",
    "    raise Exception(\"Not implemented!\")\n",
    "\n",
    "    return error"
   ]
  },
  {
   "cell_type": "code",
   "execution_count": null,
   "metadata": {
    "collapsed": true
   },
   "outputs": [],
   "source": [
    "def train_epoch(rbm, dataset, batch_size):\n",
    "    batches_limit = dataset.shape[0] / batch_size\n",
    "    for batch_idx, batch in enumerate(chunks(dataset, batch_size)):\n",
    "        cdk(rbm, batch)\n",
    "        if batch_idx % round(batches_limit / 50) == 0: print(\"#\", end=\"\")\n",
    "\n",
    "def run_training(rbm, dataset, monitoring_set, batch_size, epochs_count):\n",
    "    for epoch in range(epochs_count):\n",
    "        print(\"Epoch {}:\".format(epoch),  end=\"\\t\")\n",
    "        \n",
    "        if epoch == 5:\n",
    "            rbm.momentum = 0.8\n",
    "\n",
    "        start_time = time.time()\n",
    "        train_epoch(rbm, dataset, batch_size)\n",
    "        elapsed = time.time() - start_time\n",
    "        \n",
    "        error = reconstuction_error(rbm, monitoring_set)\n",
    "        print(\"\\telapsed: {0:>2.2f}s, reconstruction error: {1:>2.2f}\".format(elapsed, error))\n",
    "\n",
    "    print(\"Training finished!\")"
   ]
  },
  {
   "cell_type": "code",
   "execution_count": null,
   "metadata": {
    "collapsed": true
   },
   "outputs": [],
   "source": [
    "def draw_filters(rbm):\n",
    "    filters = np.reshape(np.transpose(rbm.W)[:-1, :-1], newshape=(8, -1, 28, 28))\n",
    "    tiles(filters)"
   ]
  },
  {
   "cell_type": "markdown",
   "metadata": {},
   "source": [
    "# 1. RBM Training with momentum"
   ]
  },
  {
   "cell_type": "code",
   "execution_count": null,
   "metadata": {
    "collapsed": true
   },
   "outputs": [],
   "source": [
    "def cdk(rbm, minibatch, k=1):\n",
    "    observations_count = minibatch.shape[0];\n",
    "\n",
    "    positive_visible = minibatch;\n",
    "    negative_visible = append_ones(zeros(observations_count, rbm.visible_size))\n",
    "\n",
    "    positive_hidden = append_ones(zeros(observations_count, rbm.hidden_size))\n",
    "    negative_hidden = append_ones(zeros(observations_count, rbm.hidden_size))\n",
    "\n",
    "    raise Exception(\"Not implemented!\")"
   ]
  },
  {
   "cell_type": "code",
   "execution_count": null,
   "metadata": {
    "collapsed": true
   },
   "outputs": [],
   "source": [
    "import time\n",
    "\n",
    "DATASET_SIZE = 20000 # 60000 for whole dataset\n",
    "DIGIT_SIZE = 28\n",
    "\n",
    "VISIBLE_LAYER_SIZE = DIGIT_SIZE*DIGIT_SIZE\n",
    "HIDDEN_LAYER_SIZE = 128\n",
    "\n",
    "mnist_train = mnist.train_images().astype(np.float32) / 255.0\n",
    "np.random.shuffle(mnist_train)\n",
    "dataset = np.reshape(mnist_train[:DATASET_SIZE], newshape=(DATASET_SIZE, DIGIT_SIZE*DIGIT_SIZE))\n",
    "dataset = append_ones(dataset)\n",
    "\n",
    "monitoring_indeces = np.random.choice(DATASET_SIZE, 256, replace=False)\n",
    "monitoring_set = dataset[monitoring_indeces]"
   ]
  },
  {
   "cell_type": "code",
   "execution_count": null,
   "metadata": {
    "collapsed": true,
    "scrolled": false
   },
   "outputs": [],
   "source": [
    "BATCH_SIZE = 128\n",
    "EPOCHS_COUNT = 50\n",
    "\n",
    "LEARNING_RATE = 0.1\n",
    "MOMENTUM = 0.5\n",
    "\n",
    "rbm = Rbm(VISIBLE_LAYER_SIZE, HIDDEN_LAYER_SIZE, LEARNING_RATE, MOMENTUM)\n",
    "draw_filters(rbm)\n",
    "\n",
    "run_training(rbm, dataset, monitoring_set, BATCH_SIZE, EPOCHS_COUNT)\n",
    "\n",
    "draw_filters(rbm)"
   ]
  },
  {
   "cell_type": "markdown",
   "metadata": {},
   "source": [
    "# 2. DBN Training"
   ]
  },
  {
   "cell_type": "code",
   "execution_count": null,
   "metadata": {
    "collapsed": true
   },
   "outputs": [],
   "source": [
    "def propagate_up(dbn, layers_count, visible):\n",
    "    for i in range(layers_count):\n",
    "        visible = append_ones(sigmoid(visible @ dbn[i].W[:, :-1]))\n",
    "    return visible\n",
    "\n",
    "def propagate_down(dbn, layers_count, hidden):\n",
    "    for i in reversed(range(layers_count)):\n",
    "        hidden = append_ones(sigmoid(hidden @ np.transpose(dbn[i].W[:-1, :])))\n",
    "    return hidden"
   ]
  },
  {
   "cell_type": "markdown",
   "metadata": {},
   "source": [
    "### DBN reconstruction error"
   ]
  },
  {
   "cell_type": "code",
   "execution_count": null,
   "metadata": {
    "collapsed": true
   },
   "outputs": [],
   "source": [
    "def dbn_reconstuction_error(dbn, layers_count, minibatch):\n",
    "    raise Exception(\"Not implemented!\")\n",
    "    \n",
    "    return error"
   ]
  },
  {
   "cell_type": "markdown",
   "metadata": {},
   "source": [
    "### Sampling in Deep Belief Networks"
   ]
  },
  {
   "cell_type": "code",
   "execution_count": null,
   "metadata": {
    "collapsed": true
   },
   "outputs": [],
   "source": [
    "def sample_rbm(rbm, minibatch, steps):\n",
    "    observations_count = minibatch.shape[0]\n",
    "\n",
    "    visible = minibatch\n",
    "    hidden = append_ones(zeros(observations_count, rbm.hidden_size))\n",
    "    \n",
    "    for cd_i in range(steps):\n",
    "        hidden[:, :-1] = sigmoid(visible @ rbm.W[:, :-1])\n",
    "        hidden[:, :-1] = (hidden[:, :-1] > rand(observations_count, rbm.hidden_size)).astype(np.float32)\n",
    "    \n",
    "        visible[:, :-1] = sigmoid(hidden @ np.transpose(rbm.W[:-1, :]))\n",
    "        if cd_i < (steps - 1):\n",
    "            visible[:, :-1] = (visible[:, :-1] > rand(observations_count, rbm.visible_size)).astype(np.float32)\n",
    "\n",
    "    return visible"
   ]
  },
  {
   "cell_type": "code",
   "execution_count": null,
   "metadata": {
    "collapsed": true
   },
   "outputs": [],
   "source": [
    "def sample_dbn(dbn, layer_idx, minibatch, steps):\n",
    "    raise Exception(\"Not implemented!\")"
   ]
  },
  {
   "cell_type": "code",
   "execution_count": null,
   "metadata": {
    "collapsed": true
   },
   "outputs": [],
   "source": [
    "def draw_layer_samples(dbn, layer_idx, minibatch, steps=200):\n",
    "    samples = sample_dbn(dbn, layer_idx, minibatch, steps)\n",
    "    tiles(np.reshape(samples[:, :-1], newshape=(-1, 16, 28, 28)))"
   ]
  },
  {
   "cell_type": "markdown",
   "metadata": {},
   "source": [
    "### Greedy layer-wise training"
   ]
  },
  {
   "cell_type": "code",
   "execution_count": null,
   "metadata": {
    "collapsed": true
   },
   "outputs": [],
   "source": [
    "def train_dbn(dbn, layer_idx, dataset, batch_size):\n",
    "    # dataset = ???\n",
    "    raise Exception(\"This part is unimplemented.\")\n",
    "    \n",
    "    batches_limit = dataset.shape[0] / batch_size\n",
    "    for batch_idx, batch in enumerate(chunks(dataset, batch_size)):\n",
    "        cdk(dbn[layer_idx], batch)\n",
    "        if batch_idx % round(batches_limit / 50) == 0: print(\"#\", end=\"\")"
   ]
  },
  {
   "cell_type": "code",
   "execution_count": null,
   "metadata": {
    "collapsed": true,
    "scrolled": false
   },
   "outputs": [],
   "source": [
    "BATCH_SIZE = 128\n",
    "EPOCHS_COUNT = 50\n",
    "\n",
    "LEARNING_RATE = 0.1\n",
    "MOMENTUM = 0.5\n",
    "\n",
    "DBN_HIDDEN_LAYER_SIZE = 200\n",
    "dbn = [\n",
    "    Rbm(VISIBLE_LAYER_SIZE, DBN_HIDDEN_LAYER_SIZE, LEARNING_RATE, MOMENTUM),\n",
    "    Rbm(DBN_HIDDEN_LAYER_SIZE, DBN_HIDDEN_LAYER_SIZE, LEARNING_RATE, MOMENTUM),\n",
    "    Rbm(DBN_HIDDEN_LAYER_SIZE, DBN_HIDDEN_LAYER_SIZE, LEARNING_RATE, MOMENTUM)\n",
    "]\n",
    "\n",
    "for layer_idx in range(len(dbn)):\n",
    "    print(\"\\nLearning layer {}\".format(layer_idx))\n",
    "\n",
    "    for epoch in range(EPOCHS_COUNT):\n",
    "        print(\"Epoch {}:\".format(epoch),  end=\"\\t\")\n",
    "\n",
    "        if epoch == 5:\n",
    "            dbn[layer_idx].momentum = 0.8\n",
    "        \n",
    "        start_time = time.time()\n",
    "        train_dbn(dbn, layer_idx, dataset, BATCH_SIZE)\n",
    "        elapsed = time.time() - start_time\n",
    "        \n",
    "        error = dbn_reconstuction_error(dbn, layer_idx, monitoring_set)\n",
    "        print(\"\\telapsed: {0:>2.2f}s, reconstruction error: {1:>2.2f}\".format(elapsed, error))\n",
    "    \n",
    "print(\"Training finished!\")"
   ]
  },
  {
   "cell_type": "code",
   "execution_count": null,
   "metadata": {
    "collapsed": true
   },
   "outputs": [],
   "source": [
    "draw_layer_samples(dbn, 0, monitoring_set[:8*16])"
   ]
  },
  {
   "cell_type": "code",
   "execution_count": null,
   "metadata": {
    "collapsed": true
   },
   "outputs": [],
   "source": [
    "draw_layer_samples(dbn, 1, monitoring_set[:8*16])"
   ]
  },
  {
   "cell_type": "code",
   "execution_count": null,
   "metadata": {
    "collapsed": true
   },
   "outputs": [],
   "source": [
    "draw_layer_samples(dbn, 2, monitoring_set[:8*16])"
   ]
  }
 ],
 "metadata": {
  "kernelspec": {
   "display_name": "Python 3",
   "language": "python",
   "name": "python3"
  },
  "language_info": {
   "codemirror_mode": {
    "name": "ipython",
    "version": 3
   },
   "file_extension": ".py",
   "mimetype": "text/x-python",
   "name": "python",
   "nbconvert_exporter": "python",
   "pygments_lexer": "ipython3",
   "version": "3.6.2"
  }
 },
 "nbformat": 4,
 "nbformat_minor": 2
}
